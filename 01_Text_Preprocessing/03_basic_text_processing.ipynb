{
 "cells": [
  {
   "cell_type": "markdown",
   "metadata": {},
   "source": [
    "\n",
    "# Tokenization: "
   ]
  },
  {
   "cell_type": "markdown",
   "metadata": {},
   "source": [
    "<br>\n",
    "<br>\n",
    "\n",
    "# 1. With python split function: \n",
    "\n",
    "<br>"
   ]
  },
  {
   "cell_type": "code",
   "execution_count": 3,
   "metadata": {},
   "outputs": [
    {
     "name": "stdout",
     "output_type": "stream",
     "text": [
      "\n",
      "Sentence Tokenization: ['My name is yasin', ' I am thrity years old']\n",
      "\n",
      "Word Tokenization: ['I', 'am', 'going', 'to', 'Dhaka']\n"
     ]
    }
   ],
   "source": [
    "sent = \"I am going to Dhaka\"\n",
    "sent2 = \"My name is yasin. I am thrity years old\"\n",
    "\n",
    "\n",
    "print()\n",
    "print(\"Sentence Tokenization: {}\".format(sent2.split(\".\")))\n",
    "print()\n",
    "print(\"Word Tokenization: {}\".format(sent.split(\" \")))\n"
   ]
  },
  {
   "cell_type": "code",
   "execution_count": null,
   "metadata": {},
   "outputs": [
    {
     "data": {
      "text/plain": [
       "['I', 'am', 'going', 'to', 'Dhaka!']"
      ]
     },
     "execution_count": 4,
     "metadata": {},
     "output_type": "execute_result"
    }
   ],
   "source": [
    "\n",
    "# problem with split function \"(Dhaka!)\" is not a word\n",
    "sent = \"I am going to Dhaka!\"\n",
    "sent.split(\" \")  # Dhaka! is not a word\n"
   ]
  },
  {
   "cell_type": "markdown",
   "metadata": {},
   "source": [
    "<br>\n",
    "<br>\n",
    "\n",
    "# 2. with python regularization:\n",
    "\n",
    "<br>"
   ]
  },
  {
   "cell_type": "code",
   "execution_count": null,
   "metadata": {},
   "outputs": [
    {
     "name": "stdout",
     "output_type": "stream",
     "text": [
      "['I', 'a', 'm', 'g', 'o', 'i', 'n', 'g', 't', 'o', 'D', 'h', 'a', 'k', 'a']\n",
      "['I', 'am', 'going', 'to', 'Dhaka']\n"
     ]
    }
   ],
   "source": [
    "import re\n",
    "\n",
    "# regular expression is but it need hard work to find the pattern.\n",
    "\n",
    "sent = \"I am going to Dhaka!\"\n",
    "print(re.findall(r\"[\\w]\",sent))\n",
    "print(re.findall(r\"[\\w]+\",sent))\n",
    "\n"
   ]
  },
  {
   "cell_type": "code",
   "execution_count": null,
   "metadata": {},
   "outputs": [
    {
     "name": "stdout",
     "output_type": "stream",
     "text": [
      "Hello How are you doing today I'm planning to go for a walk in the park \n",
      "It's such a beautiful day Don't you think so Let's catch up later over coffee Have a great day\n"
     ]
    }
   ],
   "source": [
    "\n",
    "# here, in this select we have !,?,':) regex working great.\n",
    "# But more complex seniro: A.I., M.B.B, etc for other avveration it's defucalut for find pattern.\n",
    "\n",
    "# <----------------------------- important ----------------------------------->\n",
    "# Best we will use, library like: NLTK,Spacy in build \n",
    "# They have capability to handle expection words.\n",
    "\n",
    "\n",
    "\n",
    "text = '''Hello! How are you doing today? I'm planning to go for a walk in the park. \n",
    "It's such a beautiful day! Don't you think so? Let's catch up later over coffee. Have a great day!'''\n",
    "\n",
    "sentence = re.compile(\"[!?.]\")\n",
    "ans = sentence.sub(\"\",text)\n",
    "\n",
    "print(ans)\n"
   ]
  },
  {
   "cell_type": "markdown",
   "metadata": {},
   "source": [
    "<br>\n",
    "<br>\n",
    "\n",
    "# 3. Using NLTK:\n",
    "\n",
    "\n",
    "<br>"
   ]
  },
  {
   "cell_type": "code",
   "execution_count": null,
   "metadata": {},
   "outputs": [
    {
     "name": "stdout",
     "output_type": "stream",
     "text": [
      "['I', 'am', 'going', 'to', 'Dhaka', '!', 'I', 'am', 'boss', 'of', 'this', 'town', '.']\n",
      "['I am going to Dhaka!', 'I am boss of this town.']\n"
     ]
    }
   ],
   "source": [
    "import nltk\n",
    "from nltk.tokenize import  sent_tokenize, word_tokenize\n",
    "\n",
    "# Download the punkt tokenizer data (it is require for tokinze words)\n",
    "#nltk.download('punkt')\n",
    "\n",
    "\n",
    "sent = \"I am going to Dhaka! I am boss of this town.\"\n",
    "\n",
    "print(word_tokenize(sent))\n",
    "print(sent_tokenize(sent))\n"
   ]
  },
  {
   "cell_type": "code",
   "execution_count": null,
   "metadata": {},
   "outputs": [
    {
     "name": "stdout",
     "output_type": "stream",
     "text": [
      "['I', 'have', 'a', 'PH.D', 'in', 'A.I']\n",
      "['We', \"'re\", 'here', 'to', 'help', '!', 'mail', 'us', 'at', 'nks', '@', 'gmail.com']\n",
      "['A', '5Km', 'ride', 'cost', '$', '10.50']\n"
     ]
    }
   ],
   "source": [
    "\n",
    "# great! nltk understand A.I, PH.D is a word\n",
    "a = 'I have a PH.D in A.I'\n",
    "b = \"We're here to help! mail us at nks@gmail.com\"\n",
    "c = \"A 5Km ride cost $10.50\"\n",
    "\n",
    "print(word_tokenize(a))\n",
    "\n",
    "# email id should be in: nks@gmail.com\n",
    "print(word_tokenize(b))\n",
    "\n",
    "# 5km should be-> ['5', 'KM']\n",
    "print(word_tokenize(c))"
   ]
  },
  {
   "cell_type": "markdown",
   "metadata": {},
   "source": [
    "<br>\n",
    "<br>\n",
    "\n",
    "# 4. With Spacy:\n",
    "\n",
    "<br>"
   ]
  },
  {
   "cell_type": "code",
   "execution_count": 16,
   "metadata": {},
   "outputs": [
    {
     "name": "stdout",
     "output_type": "stream",
     "text": [
      "I \n",
      "have \n",
      "a \n",
      "PH.D \n",
      "in \n",
      "A.I \n"
     ]
    }
   ],
   "source": [
    "import spacy \n",
    "nlp = spacy.load('en_core_web_sm')\n",
    "\n",
    "token = nlp(a)\n",
    "for i in token:\n",
    "    print(i,end=\" \\n\")"
   ]
  },
  {
   "cell_type": "code",
   "execution_count": null,
   "metadata": {},
   "outputs": [
    {
     "name": "stdout",
     "output_type": "stream",
     "text": [
      "We\n",
      "'re\n",
      "here\n",
      "to\n",
      "help\n",
      "!\n",
      "mail\n",
      "us\n",
      "at\n",
      "nks@gmail.com\n"
     ]
    }
   ],
   "source": [
    "token = nlp(b)\n",
    "\n",
    "# good with email.\n",
    "\n",
    "for i in token:\n",
    "    print(i)"
   ]
  },
  {
   "cell_type": "code",
   "execution_count": 18,
   "metadata": {},
   "outputs": [
    {
     "name": "stdout",
     "output_type": "stream",
     "text": [
      "A\n",
      "5Km\n",
      "ride\n",
      "cost\n",
      "$\n",
      "10.50\n"
     ]
    }
   ],
   "source": [
    "\n",
    "token = nlp(c)\n",
    "for i in token:\n",
    "    print(i)\n",
    "    "
   ]
  },
  {
   "cell_type": "markdown",
   "metadata": {},
   "source": [
    "<br>\n",
    "<br>\n",
    "\n",
    "# `# Conclusion:`\n",
    "\n",
    "We have many many, inbulid library for tokenization, we will use Spacy.\n",
    "\n",
    "**For working with llm's:** <br>\n",
    "We have huggingface they provide facality to implement many type of tokenization.\n",
    "\n",
    "\n",
    "<br>\n",
    "<br>"
   ]
  }
 ],
 "metadata": {
  "kernelspec": {
   "display_name": "venv",
   "language": "python",
   "name": "python3"
  },
  "language_info": {
   "codemirror_mode": {
    "name": "ipython",
    "version": 3
   },
   "file_extension": ".py",
   "mimetype": "text/x-python",
   "name": "python",
   "nbconvert_exporter": "python",
   "pygments_lexer": "ipython3",
   "version": "3.12.3"
  }
 },
 "nbformat": 4,
 "nbformat_minor": 2
}
