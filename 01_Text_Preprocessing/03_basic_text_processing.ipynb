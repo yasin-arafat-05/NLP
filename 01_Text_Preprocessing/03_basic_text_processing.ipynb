{
 "cells": [
  {
   "cell_type": "markdown",
   "metadata": {},
   "source": [
    "\n",
    "# Tokenization: "
   ]
  },
  {
   "cell_type": "markdown",
   "metadata": {},
   "source": [
    "### 1. With python split function: "
   ]
  },
  {
   "cell_type": "code",
   "execution_count": 4,
   "metadata": {},
   "outputs": [
    {
     "name": "stdout",
     "output_type": "stream",
     "text": [
      "\n",
      "Sentence Tokenization: ['My name is yasin', ' I am thrity years old']\n",
      "\n",
      "Word Tokenization: ['I', 'am', 'going', 'to', 'Dhaka']\n"
     ]
    }
   ],
   "source": [
    "sent = \"I am going to Dhaka\"\n",
    "sent2 = \"My name is yasin. I am thrity years old\"\n",
    "\n",
    "\n",
    "print()\n",
    "print(\"Sentence Tokenization: {}\".format(sent2.split(\".\")))\n",
    "print()\n",
    "print(\"Word Tokenization: {}\".format(sent.split(\" \")))\n"
   ]
  },
  {
   "cell_type": "code",
   "execution_count": 5,
   "metadata": {},
   "outputs": [
    {
     "data": {
      "text/plain": [
       "['I', 'am', 'going', 'to', 'Dhaka!']"
      ]
     },
     "execution_count": 5,
     "metadata": {},
     "output_type": "execute_result"
    }
   ],
   "source": [
    "\n",
    "sent = \"I am going to Dhaka!\"\n",
    "sent.split(\" \")  # Dhaka! is not a word\n"
   ]
  },
  {
   "cell_type": "markdown",
   "metadata": {},
   "source": [
    "\n",
    "### 2. with python regularization:\n"
   ]
  }
 ],
 "metadata": {
  "kernelspec": {
   "display_name": "venv",
   "language": "python",
   "name": "python3"
  },
  "language_info": {
   "codemirror_mode": {
    "name": "ipython",
    "version": 3
   },
   "file_extension": ".py",
   "mimetype": "text/x-python",
   "name": "python",
   "nbconvert_exporter": "python",
   "pygments_lexer": "ipython3",
   "version": "3.12.3"
  }
 },
 "nbformat": 4,
 "nbformat_minor": 2
}
